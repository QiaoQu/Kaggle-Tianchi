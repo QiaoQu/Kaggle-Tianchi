{
 "cells": [
  {
   "cell_type": "markdown",
   "metadata": {},
   "source": [
    "### 天猫复购数据分析及预测\n",
    "\n",
    "- 样本综合情况查看\n",
    "- 缺失值，样本处理（是否要特征之后再关注是否有关键缺失）\n",
    "- 数据分布，正负样本分布情况，正负样本处理\n",
    "- 观察数据分布（是否要构建特征工程之后，还是先有这个才构建工程？） ",
    "这一步大概是看哪些特征会跟结果有关系 ",
    "可以通过计算概率观察相关性，可以通过可视化观察相关性，结合多个特征观察相关性（泰坦尼克的3等仓存活率低但是三等舱婴儿存活率并不低），特征有数字的有分类的 ",
    "挖掘新特征，比如从姓名里挖掘出头衔，统计发现不同头衔复购率也不一样  \n",
    "  \n",
    "  \n",
    "1. 数据导入\n",
    "2. 查看数据：类型、大小、详情、缺失……（压缩）\n",
    "3. 观察和探索：数据分布、特征构建方向、正负样本分布……\n",
    "4. 特征处理：清洗、缺失处理、归一、转换、降维、衍生…………………………\n",
    "5. 特征构建（建议初步先跑起来）"
   ]
  },
  {
   "cell_type": "markdown",
   "metadata": {},
   "source": [
    "#####  数据集基本信息\n",
    "    数据集包含了匿名用户在 \"双十一 \"前6个月和\"双十一 \"当天的购物记录，标签为是否是重复购买者。预测给定的商家中，哪些新消费者在未来会成为忠实客户，即需要预测这些新消费者在6个月内再次购买的概率。  \n",
    "    重要表信息：  \n",
    "    用户行为日志：\n",
    "- user_id：购物者的唯一ID编码\n",
    "- item_id：商品的唯一编码\n",
    "- cat_id：商品所属品类的唯一编码\n",
    "- merchant_id：商家的唯一ID编码\n",
    "- brand_id：商品品牌的唯一编码\n",
    "- time_tamp：购买时间（格式：mmdd）\n",
    "- action_type：包含{0, 1, 2, 3}，0表示单击，1表示添加到购物车，2表示购买，3表示添加到收藏夹  \n",
    "  \n",
    "    用户表：\n",
    "- user_id：购物者的唯一ID编码\n",
    "- age_range：用户年龄范围。<18岁为1；[18,24]为2； [25,29]为3； [30,34]为4；[35,39]为5；[40,49]为6； > = 50时为7和8; 0和NULL表示未知\n",
    "- gender：用户性别。0表示女性，1表示男性，2和NULL表示未知 "
   ]
  },
  {
   "cell_type": "code",
   "execution_count": 104,
   "metadata": {
    "scrolled": true
   },
   "outputs": [
    {
     "name": "stdout",
     "output_type": "stream",
     "text": [
      "<class 'pandas.core.frame.DataFrame'>\n",
      "RangeIndex: 424170 entries, 0 to 424169\n",
      "Data columns (total 3 columns):\n",
      " #   Column     Non-Null Count   Dtype  \n",
      "---  ------     --------------   -----  \n",
      " 0   user_id    424170 non-null  int64  \n",
      " 1   age_range  421953 non-null  float64\n",
      " 2   gender     417734 non-null  float64\n",
      "dtypes: float64(2), int64(1)\n",
      "memory usage: 9.7 MB\n",
      "None\n",
      "<class 'pandas.core.frame.DataFrame'>\n",
      "RangeIndex: 54925330 entries, 0 to 54925329\n",
      "Data columns (total 7 columns):\n",
      " #   Column       Dtype  \n",
      "---  ------       -----  \n",
      " 0   user_id      int64  \n",
      " 1   item_id      int64  \n",
      " 2   cat_id       int64  \n",
      " 3   seller_id    int64  \n",
      " 4   brand_id     float64\n",
      " 5   time_stamp   int64  \n",
      " 6   action_type  int64  \n",
      "dtypes: float64(1), int64(6)\n",
      "memory usage: 2.9 GB\n",
      "None\n",
      "<class 'pandas.core.frame.DataFrame'>\n",
      "RangeIndex: 260864 entries, 0 to 260863\n",
      "Data columns (total 3 columns):\n",
      " #   Column       Non-Null Count   Dtype\n",
      "---  ------       --------------   -----\n",
      " 0   user_id      260864 non-null  int64\n",
      " 1   merchant_id  260864 non-null  int64\n",
      " 2   label        260864 non-null  int64\n",
      "dtypes: int64(3)\n",
      "memory usage: 6.0 MB\n",
      "None\n",
      "<class 'pandas.core.frame.DataFrame'>\n",
      "RangeIndex: 261477 entries, 0 to 261476\n",
      "Data columns (total 3 columns):\n",
      " #   Column       Non-Null Count   Dtype  \n",
      "---  ------       --------------   -----  \n",
      " 0   user_id      261477 non-null  int64  \n",
      " 1   merchant_id  261477 non-null  int64  \n",
      " 2   prob         0 non-null       float64\n",
      "dtypes: float64(1), int64(2)\n",
      "memory usage: 6.0 MB\n",
      "None\n"
     ]
    }
   ],
   "source": [
    "# 导入数据\n",
    "import pandas as pd\n",
    "\n",
    "user_info = pd.read_csv('user_info_format1.csv')\n",
    "print(user_info.info())\n",
    "\n",
    "user_log = pd.read_csv('user_log_format1.csv')\n",
    "print(user_log.info())\n",
    "\n",
    "train_data = pd.read_csv('train_format1.csv')\n",
    "print(train_data.info())\n",
    "\n",
    "test_data = pd.read_csv('test_format1.csv')\n",
    "print(test_data.info())"
   ]
  },
  {
   "cell_type": "code",
   "execution_count": 132,
   "metadata": {},
   "outputs": [
    {
     "name": "stdout",
     "output_type": "stream",
     "text": [
      "<class 'pandas.core.frame.DataFrame'>\n",
      "RangeIndex: 54925330 entries, 0 to 54925329\n",
      "Data columns (total 7 columns):\n",
      " #   Column       Dtype  \n",
      "---  ------       -----  \n",
      " 0   user_id      int32  \n",
      " 1   item_id      int32  \n",
      " 2   cat_id       int16  \n",
      " 3   merchant_id  int16  \n",
      " 4   brand_id     float16\n",
      " 5   time_stamp   int16  \n",
      " 6   action_type  int8   \n",
      "dtypes: float16(1), int16(3), int32(2), int8(1)\n",
      "memory usage: 890.5 MB\n",
      "None\n"
     ]
    }
   ],
   "source": [
    "# 压缩数据：user_log太占内存了\n",
    "import numpy as np\n",
    "\n",
    "def reduce_memmory_usage(df):\n",
    "    \n",
    "    for col in df.columns:\n",
    "        col_dtype = df[col].dtypes\n",
    "        num_max = df[col].max()\n",
    "        \n",
    "        if str(col_dtype) == 'int64':\n",
    "            if num_max<np.iinfo(np.int8).max:\n",
    "                df[col] = df[col].astype(np.int8)\n",
    "            elif num_max<np.iinfo(np.int16).max:\n",
    "                df[col] = df[col].astype(np.int16)\n",
    "            elif num_max<np.iinfo(np.int32).max:\n",
    "                df[col] = df[col].astype(np.int32)\n",
    "        elif str(col_dtype) == 'float64':\n",
    "            if num_max<np.finfo(np.float16).max:\n",
    "                df[col] = df[col].astype(np.float16)\n",
    "            elif num_max<np.finfo(np.float32).max:\n",
    "                df[col] = df[col].astype(np.float32)\n",
    "    \n",
    "    return df\n",
    "\n",
    "user_log = reduce_memmory_usage(user_log)\n",
    "print(user_log.info())\n"
   ]
  },
  {
   "cell_type": "code",
   "execution_count": 106,
   "metadata": {},
   "outputs": [
    {
     "name": "stdout",
     "output_type": "stream",
     "text": [
      "user_info表数据缺失：\n",
      " user_id         0\n",
      "age_range    2217\n",
      "gender       6436\n",
      "dtype: int64\n",
      "年龄分布：\n",
      " 3.0    111654\n",
      "0.0     92914\n",
      "4.0     79991\n",
      "2.0     52871\n",
      "5.0     40777\n",
      "6.0     35464\n",
      "7.0      6992\n",
      "8.0      1266\n",
      "1.0        24\n",
      "Name: age_range, dtype: int64\n",
      "性别分布：\n",
      " 0.0    285638\n",
      "1.0    121670\n",
      "2.0     10426\n",
      "Name: gender, dtype: int64\n",
      "<class 'pandas.core.frame.DataFrame'>\n",
      "RangeIndex: 424170 entries, 0 to 424169\n",
      "Data columns (total 3 columns):\n",
      " #   Column     Non-Null Count   Dtype\n",
      "---  ------     --------------   -----\n",
      " 0   user_id    424170 non-null  int32\n",
      " 1   age_range  424170 non-null  int8 \n",
      " 2   gender     424170 non-null  int8 \n",
      "dtypes: int32(1), int8(2)\n",
      "memory usage: 2.4 MB\n",
      "None\n"
     ]
    }
   ],
   "source": [
    "# user_info数据集处理\n",
    "print('user_info表数据缺失：\\n',user_info.isna().sum())\n",
    "print('年龄分布：\\n',user_info.age_range.value_counts())\n",
    "print('性别分布：\\n',user_info.gender.value_counts())\n",
    "\n",
    "# 年龄空值统一用0代替，性别用2代替\n",
    "user_info.age_range.fillna(0,inplace=True)\n",
    "user_info.gender.fillna(2,inplace=True)\n",
    "\n",
    "# 类型转换、统一\n",
    "user_info.user_id = user_info.user_id.astype(np.int32)\n",
    "user_info.age_range = user_info.age_range.astype(np.int8)\n",
    "user_info.gender = user_info.gender.astype(np.int8)\n",
    "\n",
    "print(user_info.info())\n",
    "\n",
    "user_log = user_log.rename(columns={'seller_id':'merchant_id'})"
   ]
  },
  {
   "cell_type": "code",
   "execution_count": 107,
   "metadata": {},
   "outputs": [
    {
     "name": "stdout",
     "output_type": "stream",
     "text": [
      "label取值：\n",
      " 0    244912\n",
      "1     15952\n",
      "Name: label, dtype: int64\n",
      "<class 'pandas.core.frame.DataFrame'>\n",
      "RangeIndex: 260864 entries, 0 to 260863\n",
      "Data columns (total 3 columns):\n",
      " #   Column       Non-Null Count   Dtype  \n",
      "---  ------       --------------   -----  \n",
      " 0   user_id      260864 non-null  int32  \n",
      " 1   merchant_id  260864 non-null  int16  \n",
      " 2   label        260864 non-null  float16\n",
      "dtypes: float16(1), int16(1), int32(1)\n",
      "memory usage: 2.0 MB\n",
      "None\n"
     ]
    }
   ],
   "source": [
    "# 训练集处理\n",
    "#print('训练集数据缺失：\\n',train_data.isna().sum())\n",
    "print('label取值：\\n',train_data.label.value_counts())\n",
    "\n",
    "# 类型转换、统一\n",
    "train_data.user_id = train_data.user_id.astype(np.int32)\n",
    "train_data.merchant_id = train_data.merchant_id.astype(np.int16)\n",
    "train_data.label = train_data.label.astype(np.float16)\n",
    "\n",
    "print(train_data.info())"
   ]
  },
  {
   "cell_type": "code",
   "execution_count": 108,
   "metadata": {},
   "outputs": [
    {
     "name": "stdout",
     "output_type": "stream",
     "text": [
      "<class 'pandas.core.frame.DataFrame'>\n",
      "RangeIndex: 261477 entries, 0 to 261476\n",
      "Data columns (total 3 columns):\n",
      " #   Column       Non-Null Count   Dtype  \n",
      "---  ------       --------------   -----  \n",
      " 0   user_id      261477 non-null  int32  \n",
      " 1   merchant_id  261477 non-null  int16  \n",
      " 2   label        0 non-null       float16\n",
      "dtypes: float16(1), int16(1), int32(1)\n",
      "memory usage: 2.0 MB\n",
      "None\n"
     ]
    }
   ],
   "source": [
    "# 测试集处理\n",
    "test_data = pd.read_csv('test_format1.csv')\n",
    "\n",
    "# 类型转换、统一\n",
    "test_data.user_id = test_data.user_id.astype(np.int32)\n",
    "test_data.merchant_id =test_data.merchant_id.astype(np.int16)\n",
    "test_data.rename(columns={'prob':'label'}, inplace = True) \n",
    "test_data.label = test_data.label.astype(np.float16)\n",
    "\n",
    "print(test_data.info())"
   ]
  },
  {
   "cell_type": "markdown",
   "metadata": {},
   "source": [
    "##### 特征工程"
   ]
  },
  {
   "cell_type": "code",
   "execution_count": 109,
   "metadata": {},
   "outputs": [
    {
     "name": "stdout",
     "output_type": "stream",
     "text": [
      "<class 'pandas.core.frame.DataFrame'>\n",
      "Int64Index: 522341 entries, 0 to 261476\n",
      "Data columns (total 3 columns):\n",
      " #   Column       Non-Null Count   Dtype  \n",
      "---  ------       --------------   -----  \n",
      " 0   user_id      522341 non-null  int32  \n",
      " 1   merchant_id  522341 non-null  int16  \n",
      " 2   label        260864 non-null  float16\n",
      "dtypes: float16(1), int16(1), int32(1)\n",
      "memory usage: 8.0 MB\n",
      "None\n"
     ]
    }
   ],
   "source": [
    "dataset = train_data.append(test_data)\n",
    "print(dataset.info())"
   ]
  },
  {
   "cell_type": "code",
   "execution_count": 110,
   "metadata": {},
   "outputs": [
    {
     "name": "stdout",
     "output_type": "stream",
     "text": [
      "<class 'pandas.core.frame.DataFrame'>\n",
      "Int64Index: 522341 entries, 0 to 522340\n",
      "Data columns (total 5 columns):\n",
      " #   Column       Non-Null Count   Dtype  \n",
      "---  ------       --------------   -----  \n",
      " 0   user_id      522341 non-null  int32  \n",
      " 1   merchant_id  522341 non-null  int16  \n",
      " 2   label        260864 non-null  float16\n",
      " 3   age_range    522341 non-null  int8   \n",
      " 4   gender       522341 non-null  int8   \n",
      "dtypes: float16(1), int16(1), int32(1), int8(2)\n",
      "memory usage: 9.0 MB\n",
      "None\n"
     ]
    },
    {
     "data": {
      "text/plain": [
       "226"
      ]
     },
     "execution_count": 110,
     "metadata": {},
     "output_type": "execute_result"
    }
   ],
   "source": [
    "import gc\n",
    "\n",
    "# 合并用户基本信息:性别、年龄\n",
    "dataset = dataset.merge(user_info,on=['user_id'],how='left')\n",
    "print(dataset.info())\n",
    "\n",
    "del train_data,test_data,user_info\n",
    "gc.collect()"
   ]
  },
  {
   "cell_type": "markdown",
   "metadata": {},
   "source": [
    "    用户行为日志：\n",
    "   - user_id：购物者的唯一ID编码\n",
    "   - item_id：商品的唯一编码\n",
    "   - cat_id：商品所属品类的唯一编码\n",
    "   - seller_id：商家的唯一ID编码\n",
    "   - brand_id：商品品牌的唯一编码\n",
    "   - time_tamp：购买时间（格式：mmdd）\n",
    "   - action_type：包含{0, 1, 2, 3}，0表示单击，1表示添加到购物车，2表示购买，3表示添加到收藏夹  "
   ]
  },
  {
   "cell_type": "markdown",
   "metadata": {},
   "source": [
    "##### 单个特征、多个特征\n",
    "    用户特征构造  \n",
    "- 用户点击总数\n",
    "- 用户加购总数\n",
    "- 用户购买总数\n",
    "- 用户收藏总数 \n",
    "    \n",
    "    商户特征构造  \n",
    "- 来访买家数\n",
    "- 商品数\n",
    "- 品类数\n",
    "- 品牌数\n",
    "- 总点击量\n",
    "- 总加购数\n",
    "- 总购买数\n",
    "- 总收藏数\n",
    "    \n",
    "    用户+商户特征构造 \n",
    "- 用户在商户的点击次数\n",
    "- 用户在商户的加购数\n",
    "- 用户在商户的购买数\n",
    "- 用户在商户的收藏数\n",
    "    \n",
    "##### 衍生特征  \n",
    "    用户偏好特征（开始懵）是否要结合训练集和用户日志\n",
    "- 用户购买/访问商户的：商品量级、品类量级、品牌量级、点击、加购、购买、收藏\n",
    "\n",
    "    商户顾客特征（开始懵）\n",
    "- 商户顾客性别、年龄众数\n",
    "\n",
    "    用户在商户的行为特征（懵）\n",
    "- 用户在店铺出现的月份、天数、月访问次数"
   ]
  },
  {
   "cell_type": "code",
   "execution_count": 111,
   "metadata": {},
   "outputs": [
    {
     "name": "stdout",
     "output_type": "stream",
     "text": [
      "<class 'pandas.core.frame.DataFrame'>\n",
      "Int64Index: 522341 entries, 0 to 522340\n",
      "Data columns (total 9 columns):\n",
      " #   Column                Non-Null Count   Dtype  \n",
      "---  ------                --------------   -----  \n",
      " 0   user_id               522341 non-null  int32  \n",
      " 1   merchant_id           522341 non-null  int16  \n",
      " 2   label                 260864 non-null  float16\n",
      " 3   age_range             522341 non-null  int8   \n",
      " 4   gender                522341 non-null  int8   \n",
      " 5   user_click_total      521981 non-null  float64\n",
      " 6   user_addtocart_total  38179 non-null   float64\n",
      " 7   user_purchase_total   522341 non-null  int64  \n",
      " 8   user_favourite_total  294859 non-null  float64\n",
      "dtypes: float16(1), float64(3), int16(1), int32(1), int64(1), int8(2)\n",
      "memory usage: 24.9 MB\n",
      "None\n"
     ]
    }
   ],
   "source": [
    "# 单特征：用户属性\n",
    "\n",
    "def user_attribute(df_data,col_name, action_type,dataset):\n",
    "    df = df_data[df_data['action_type']==action_type].groupby(['user_id'])[['user_id']].count().rename(columns={'user_id':col_name})\n",
    "    dataset = dataset.merge(df, on=['user_id'], how='left')\n",
    "    return dataset\n",
    "\n",
    "dataset = user_attribute(user_log,'user_click_total', 0,dataset)\n",
    "dataset = user_attribute(user_log,'user_addtocart_total', 1,dataset)\n",
    "dataset = user_attribute(user_log,'user_purchase_total', 2,dataset)\n",
    "dataset = user_attribute(user_log,'user_favourite_total', 3,dataset)\n",
    "\n",
    "print(dataset.info())"
   ]
  },
  {
   "cell_type": "code",
   "execution_count": 112,
   "metadata": {},
   "outputs": [
    {
     "name": "stdout",
     "output_type": "stream",
     "text": [
      "<class 'pandas.core.frame.DataFrame'>\n",
      "Int64Index: 522341 entries, 0 to 522340\n",
      "Data columns (total 13 columns):\n",
      " #   Column                Non-Null Count   Dtype  \n",
      "---  ------                --------------   -----  \n",
      " 0   user_id               522341 non-null  int32  \n",
      " 1   merchant_id           522341 non-null  int16  \n",
      " 2   label                 260864 non-null  float16\n",
      " 3   age_range             522341 non-null  int8   \n",
      " 4   gender                522341 non-null  int8   \n",
      " 5   user_click_total      521981 non-null  float64\n",
      " 6   user_addtocart_total  38179 non-null   float64\n",
      " 7   user_purchase_total   522341 non-null  int64  \n",
      " 8   user_favourite_total  294859 non-null  float64\n",
      " 9   m_users_t             522341 non-null  int64  \n",
      " 10  m_items_t             522341 non-null  int64  \n",
      " 11  m_catgrys_t           522341 non-null  int64  \n",
      " 12  m_brands_t            522341 non-null  int64  \n",
      "dtypes: float16(1), float64(3), int16(1), int32(1), int64(5), int8(2)\n",
      "memory usage: 40.8 MB\n",
      "None\n"
     ]
    }
   ],
   "source": [
    "# 单特征：商户属性\n",
    "\n",
    "def m_attribute1(df_data,col_name,cnt_col,dataset):\n",
    "    df = df_data.groupby(['merchant_id'])[[cnt_col]].nunique().rename(columns={cnt_col:col_name})\n",
    "    dataset = dataset.merge(df, on=['merchant_id'], how='left')\n",
    "    return dataset\n",
    "\n",
    "dataset = m_attribute1(user_log,'m_users_t', 'user_id',dataset)\n",
    "dataset = m_attribute1(user_log,'m_items_t', 'item_id',dataset)\n",
    "dataset = m_attribute1(user_log,'m_catgrys_t', 'cat_id',dataset)\n",
    "dataset = m_attribute1(user_log,'m_brands_t', 'brand_id',dataset)\n",
    "\n",
    "print(dataset.info())"
   ]
  },
  {
   "cell_type": "code",
   "execution_count": 114,
   "metadata": {},
   "outputs": [
    {
     "name": "stdout",
     "output_type": "stream",
     "text": [
      "<class 'pandas.core.frame.DataFrame'>\n",
      "Int64Index: 522341 entries, 0 to 522340\n",
      "Data columns (total 17 columns):\n",
      " #   Column                Non-Null Count   Dtype  \n",
      "---  ------                --------------   -----  \n",
      " 0   user_id               522341 non-null  int32  \n",
      " 1   merchant_id           522341 non-null  int16  \n",
      " 2   label                 260864 non-null  float16\n",
      " 3   age_range             522341 non-null  int8   \n",
      " 4   gender                522341 non-null  int8   \n",
      " 5   user_click_total      521981 non-null  float64\n",
      " 6   user_addtocart_total  38179 non-null   float64\n",
      " 7   user_purchase_total   522341 non-null  int64  \n",
      " 8   user_favourite_total  294859 non-null  float64\n",
      " 9   m_users_t             522341 non-null  int64  \n",
      " 10  m_items_t             522341 non-null  int64  \n",
      " 11  m_catgrys_t           522341 non-null  int64  \n",
      " 12  m_brands_t            522341 non-null  int64  \n",
      " 13  m_click_t             522341 non-null  int64  \n",
      " 14  m_addtocart_t         518289 non-null  float64\n",
      " 15  m_purchase_t          522341 non-null  int64  \n",
      " 16  m_favourite_t         522341 non-null  int64  \n",
      "dtypes: float16(1), float64(4), int16(1), int32(1), int64(8), int8(2)\n",
      "memory usage: 56.8 MB\n",
      "None\n"
     ]
    }
   ],
   "source": [
    "def m_attribute2(df_data,col_name, action_type,dataset):\n",
    "    df = df_data[df_data['action_type']==action_type].groupby(['merchant_id'])[['user_id']].count().rename(columns={'user_id':col_name})\n",
    "    dataset = dataset.merge(df, on=['merchant_id'], how='left')\n",
    "    return dataset\n",
    "\n",
    "dataset = m_attribute2(user_log,'m_click_t', 0,dataset)\n",
    "dataset = m_attribute2(user_log,'m_addtocart_t', 1,dataset)\n",
    "dataset = m_attribute2(user_log,'m_purchase_t', 2,dataset)\n",
    "dataset = m_attribute2(user_log,'m_favourite_t', 3,dataset)\n",
    "\n",
    "print(dataset.info())"
   ]
  },
  {
   "cell_type": "code",
   "execution_count": 128,
   "metadata": {},
   "outputs": [
    {
     "name": "stdout",
     "output_type": "stream",
     "text": [
      "<class 'pandas.core.frame.DataFrame'>\n",
      "Int64Index: 522341 entries, 0 to 522340\n",
      "Data columns (total 21 columns):\n",
      " #   Column                Non-Null Count   Dtype  \n",
      "---  ------                --------------   -----  \n",
      " 0   user_id               522341 non-null  int32  \n",
      " 1   merchant_id           522341 non-null  int16  \n",
      " 2   label                 260864 non-null  float16\n",
      " 3   age_range             522341 non-null  int8   \n",
      " 4   gender                522341 non-null  int8   \n",
      " 5   user_click_total      521981 non-null  float64\n",
      " 6   user_addtocart_total  38179 non-null   float64\n",
      " 7   user_purchase_total   522341 non-null  int64  \n",
      " 8   user_favourite_total  294859 non-null  float64\n",
      " 9   m_users_t             522341 non-null  int64  \n",
      " 10  m_items_t             522341 non-null  int64  \n",
      " 11  m_catgrys_t           522341 non-null  int64  \n",
      " 12  m_brands_t            522341 non-null  int64  \n",
      " 13  m_click_t             522341 non-null  int64  \n",
      " 14  m_addtocart_t         518289 non-null  float64\n",
      " 15  m_purchase_t          522341 non-null  int64  \n",
      " 16  m_favourite_t         522341 non-null  int64  \n",
      " 17  uim_click             462933 non-null  float64\n",
      " 18  uim_addtocart         9394 non-null    float64\n",
      " 19  uim_purchase          522341 non-null  int64  \n",
      " 20  uim_favourite         96551 non-null   float64\n",
      "dtypes: float16(1), float64(7), int16(1), int32(1), int64(9), int8(2)\n",
      "memory usage: 72.7 MB\n",
      "None\n"
     ]
    }
   ],
   "source": [
    "# 多特征：用户+商户特征构造 \n",
    "def uim_attribute1(df_data,col_name, action_type,dataset):\n",
    "    df = df_data[df_data['action_type']==action_type].groupby(['user_id','merchant_id'])[['user_id']].count().rename(columns={'user_id':col_name})\n",
    "    dataset = dataset.merge(df,on=['user_id','merchant_id'], how='left')\n",
    "    return dataset\n",
    "\n",
    "dataset = uim_attribute1(user_log,'uim_click', 0,dataset)\n",
    "dataset = uim_attribute1(user_log,'uim_addtocart', 1,dataset)\n",
    "dataset = uim_attribute1(user_log,'uim_purchase', 2,dataset)\n",
    "dataset = uim_attribute1(user_log,'uim_favourite', 3,dataset)\n",
    "\n",
    "print(dataset.info())"
   ]
  },
  {
   "cell_type": "code",
   "execution_count": 133,
   "metadata": {},
   "outputs": [
    {
     "name": "stdout",
     "output_type": "stream",
     "text": [
      "<class 'pandas.core.frame.DataFrame'>\n",
      "Int64Index: 522341 entries, 0 to 522340\n",
      "Data columns (total 21 columns):\n",
      " #   Column                Non-Null Count   Dtype  \n",
      "---  ------                --------------   -----  \n",
      " 0   user_id               522341 non-null  int32  \n",
      " 1   merchant_id           522341 non-null  int16  \n",
      " 2   label                 260864 non-null  float16\n",
      " 3   age_range             522341 non-null  int8   \n",
      " 4   gender                522341 non-null  int8   \n",
      " 5   user_click_total      521981 non-null  float16\n",
      " 6   user_addtocart_total  38179 non-null   float16\n",
      " 7   user_purchase_total   522341 non-null  int16  \n",
      " 8   user_favourite_total  294859 non-null  float16\n",
      " 9   m_users_t             522341 non-null  int32  \n",
      " 10  m_items_t             522341 non-null  int16  \n",
      " 11  m_catgrys_t           522341 non-null  int16  \n",
      " 12  m_brands_t            522341 non-null  int8   \n",
      " 13  m_click_t             522341 non-null  int32  \n",
      " 14  m_addtocart_t         518289 non-null  float16\n",
      " 15  m_purchase_t          522341 non-null  int16  \n",
      " 16  m_favourite_t         522341 non-null  int32  \n",
      " 17  uim_click             462933 non-null  float16\n",
      " 18  uim_addtocart         9394 non-null    float16\n",
      " 19  uim_purchase          522341 non-null  int8   \n",
      " 20  uim_favourite         96551 non-null   float16\n",
      "dtypes: float16(8), int16(5), int32(4), int8(4)\n",
      "memory usage: 26.9 MB\n",
      "None\n"
     ]
    }
   ],
   "source": [
    "# 压缩一下\n",
    "dataset = reduce_memmory_usage(dataset)\n",
    "print(dataset.info())"
   ]
  },
  {
   "cell_type": "code",
   "execution_count": 138,
   "metadata": {},
   "outputs": [
    {
     "name": "stdout",
     "output_type": "stream",
     "text": [
      "<class 'pandas.core.frame.DataFrame'>\n",
      "Int64Index: 261477 entries, 260864 to 522340\n",
      "Data columns (total 21 columns):\n",
      " #   Column                Non-Null Count   Dtype  \n",
      "---  ------                --------------   -----  \n",
      " 0   user_id               261477 non-null  int32  \n",
      " 1   merchant_id           261477 non-null  int16  \n",
      " 2   label                 0 non-null       float16\n",
      " 3   age_range             261477 non-null  int8   \n",
      " 4   gender                261477 non-null  int8   \n",
      " 5   user_click_total      261297 non-null  float16\n",
      " 6   user_addtocart_total  19130 non-null   float16\n",
      " 7   user_purchase_total   261477 non-null  int16  \n",
      " 8   user_favourite_total  147732 non-null  float16\n",
      " 9   m_users_t             261477 non-null  int32  \n",
      " 10  m_items_t             261477 non-null  int16  \n",
      " 11  m_catgrys_t           261477 non-null  int16  \n",
      " 12  m_brands_t            261477 non-null  int8   \n",
      " 13  m_click_t             261477 non-null  int32  \n",
      " 14  m_addtocart_t         259486 non-null  float16\n",
      " 15  m_purchase_t          261477 non-null  int16  \n",
      " 16  m_favourite_t         261477 non-null  int32  \n",
      " 17  uim_click             231942 non-null  float16\n",
      " 18  uim_addtocart         4775 non-null    float16\n",
      " 19  uim_purchase          261477 non-null  int8   \n",
      " 20  uim_favourite         48341 non-null   float16\n",
      "dtypes: float16(8), int16(5), int32(4), int8(4)\n",
      "memory usage: 13.5 MB\n",
      "None\n",
      "<class 'pandas.core.frame.DataFrame'>\n",
      "Int64Index: 260864 entries, 0 to 260863\n",
      "Data columns (total 21 columns):\n",
      " #   Column                Non-Null Count   Dtype  \n",
      "---  ------                --------------   -----  \n",
      " 0   user_id               260864 non-null  int32  \n",
      " 1   merchant_id           260864 non-null  int16  \n",
      " 2   label                 260864 non-null  float16\n",
      " 3   age_range             260864 non-null  int8   \n",
      " 4   gender                260864 non-null  int8   \n",
      " 5   user_click_total      260684 non-null  float16\n",
      " 6   user_addtocart_total  19049 non-null   float16\n",
      " 7   user_purchase_total   260864 non-null  int16  \n",
      " 8   user_favourite_total  147127 non-null  float16\n",
      " 9   m_users_t             260864 non-null  int32  \n",
      " 10  m_items_t             260864 non-null  int16  \n",
      " 11  m_catgrys_t           260864 non-null  int16  \n",
      " 12  m_brands_t            260864 non-null  int8   \n",
      " 13  m_click_t             260864 non-null  int32  \n",
      " 14  m_addtocart_t         258803 non-null  float16\n",
      " 15  m_purchase_t          260864 non-null  int16  \n",
      " 16  m_favourite_t         260864 non-null  int32  \n",
      " 17  uim_click             230991 non-null  float16\n",
      " 18  uim_addtocart         4619 non-null    float16\n",
      " 19  uim_purchase          260864 non-null  int8   \n",
      " 20  uim_favourite         48210 non-null   float16\n",
      "dtypes: float16(8), int16(5), int32(4), int8(4)\n",
      "memory usage: 13.4 MB\n",
      "None\n"
     ]
    }
   ],
   "source": [
    "# 训练集、测试集拆分\n",
    "test_data = dataset[dataset['label'].isna()]\n",
    "train_data = dataset[~dataset['label'].isna()]\n",
    "\n",
    "test_data.to_csv('test_data.csv',index=False)\n",
    "train_data.to_csv('train_data.csv',index=False)\n",
    "\n",
    "print(test_data.info())\n",
    "print(train_data.info())"
   ]
  },
  {
   "cell_type": "markdown",
   "metadata": {},
   "source": [
    "##### 模型训练"
   ]
  },
  {
   "cell_type": "code",
   "execution_count": 9,
   "metadata": {},
   "outputs": [],
   "source": [
    "from sklearn.preprocessing import StandardScaler\n",
    "from sklearn.model_selection import train_test_split\n",
    "\n",
    "train_X, train_y = train_data.drop(['label'], axis=1), train_data['label']\n",
    "\n",
    "# 空值及无限值处理\n",
    "def fill_nanvsinf (data):\n",
    "    data.replace(np.nan, 0, inplace=True)\n",
    "    data.replace([np.inf, -np.inf], 0, inplace=True)\n",
    "    return data\n",
    "\n",
    "train_X = fill_nanvsinf(train_X)\n",
    "\n",
    "# 归一化\n",
    "stdScaler = StandardScaler()\n",
    "X = stdScaler.fit_transform(train_X)\n",
    "\n",
    "# 拆分训练集、测试集\n",
    "X_train, X_valid, y_train, y_valid = train_test_split(X,train_y)"
   ]
  },
  {
   "cell_type": "code",
   "execution_count": 149,
   "metadata": {},
   "outputs": [
    {
     "name": "stdout",
     "output_type": "stream",
     "text": [
      "逻辑回归score: 0.9379293424926398\n"
     ]
    }
   ],
   "source": [
    "# 逻辑回归（很快）\n",
    "from sklearn.linear_model import LogisticRegression\n",
    "\n",
    "clf = LogisticRegression(random_state=0, solver='lbfgs', multi_class='multinomial').fit(X_train, y_train)\n",
    "print('逻辑回归score:', clf.score(X_valid, y_valid))"
   ]
  },
  {
   "cell_type": "code",
   "execution_count": 152,
   "metadata": {},
   "outputs": [
    {
     "name": "stdout",
     "output_type": "stream",
     "text": [
      "K近邻score: 0.9277324582924436\n"
     ]
    }
   ],
   "source": [
    "# KNN模型（计算量大）\n",
    "from sklearn.neighbors import KNeighborsClassifier\n",
    "\n",
    "clf = KNeighborsClassifier(n_neighbors=3).fit(X_train, y_train)\n",
    "print('K近邻score:', clf.score(X_valid, y_valid))"
   ]
  },
  {
   "cell_type": "code",
   "execution_count": 153,
   "metadata": {},
   "outputs": [
    {
     "name": "stdout",
     "output_type": "stream",
     "text": [
      "高斯贝叶斯score: 0.8582096418056918\n"
     ]
    }
   ],
   "source": [
    "# 高斯贝叶斯模型(秒出)\n",
    "from sklearn.naive_bayes import GaussianNB\n",
    "\n",
    "clf = GaussianNB().fit(X_train, y_train)\n",
    "print('高斯贝叶斯score:', clf.score(X_valid, y_valid))"
   ]
  },
  {
   "cell_type": "code",
   "execution_count": 154,
   "metadata": {},
   "outputs": [
    {
     "name": "stdout",
     "output_type": "stream",
     "text": [
      "决策树score: 0.8759966879293425\n"
     ]
    }
   ],
   "source": [
    "# 决策树模型（很快）\n",
    "from sklearn import tree\n",
    "\n",
    "clf = tree.DecisionTreeClassifier()\n",
    "clf = clf.fit(X_train, y_train)\n",
    "print('决策树score:', clf.score(X_valid, y_valid))"
   ]
  },
  {
   "cell_type": "code",
   "execution_count": 160,
   "metadata": {},
   "outputs": [
    {
     "name": "stdout",
     "output_type": "stream",
     "text": [
      "随机森林score: 0.8759966879293425\n"
     ]
    }
   ],
   "source": [
    "# 随机森林（挺快）\n",
    "from sklearn.ensemble import RandomForestClassifier\n",
    "\n",
    "rf_clf = RandomForestClassifier(\n",
    "    n_estimators=10, \n",
    "    min_samples_split=2,\n",
    "    max_depth=None, \n",
    "    max_features='sqrt')\n",
    "\n",
    "rf_clf.fit(X_train, y_train)\n",
    "print('随机森林score:', clf.score(X_valid, y_valid))"
   ]
  },
  {
   "cell_type": "code",
   "execution_count": 159,
   "metadata": {},
   "outputs": [
    {
     "name": "stdout",
     "output_type": "stream",
     "text": [
      "决策树score: 0.8759966879293425\n"
     ]
    }
   ],
   "source": [
    "# 随机森林 \n",
    "from sklearn.ensemble import RandomForestClassifier\n",
    "\n",
    "rf_clf = RandomForestClassifier(\n",
    "    n_estimators=10, \n",
    "    min_samples_split=2,\n",
    "    max_depth=None, \n",
    "    random_state=0)\n",
    "\n",
    "rf_clf.fit(X_train, y_train)\n",
    "print('决策树score:', clf.score(X_valid, y_valid))"
   ]
  },
  {
   "cell_type": "code",
   "execution_count": 163,
   "metadata": {},
   "outputs": [
    {
     "name": "stdout",
     "output_type": "stream",
     "text": [
      "Collecting xgboost\n",
      "  Downloading xgboost-1.3.3-py3-none-macosx_10_14_x86_64.macosx_10_15_x86_64.macosx_11_0_x86_64.whl (1.2 MB)\n",
      "\u001b[K     |████████████████████████████████| 1.2 MB 86 kB/s eta 0:00:012\n",
      "\u001b[?25hRequirement already satisfied: numpy in /opt/anaconda3/lib/python3.8/site-packages (from xgboost) (1.18.5)\n",
      "Requirement already satisfied: scipy in /opt/anaconda3/lib/python3.8/site-packages (from xgboost) (1.5.0)\n",
      "Installing collected packages: xgboost\n",
      "Successfully installed xgboost-1.3.3\n",
      "Note: you may need to restart the kernel to use updated packages.\n"
     ]
    }
   ],
   "source": [
    "%pip install xgboost"
   ]
  },
  {
   "cell_type": "code",
   "execution_count": 12,
   "metadata": {},
   "outputs": [
    {
     "name": "stdout",
     "output_type": "stream",
     "text": [
      "[0]\ttrain-auc:0.581805\tvalid-auc:0.581448\n",
      "Multiple eval metrics have been passed: 'valid-auc' will be used for early stopping.\n",
      "\n",
      "Will train until valid-auc hasn't improved in 10 rounds.\n",
      "[1]\ttrain-auc:0.610193\tvalid-auc:0.60793\n",
      "[2]\ttrain-auc:0.61242\tvalid-auc:0.610067\n",
      "[3]\ttrain-auc:0.616985\tvalid-auc:0.61334\n",
      "[4]\ttrain-auc:0.620087\tvalid-auc:0.61532\n",
      "[5]\ttrain-auc:0.624415\tvalid-auc:0.619134\n",
      "[6]\ttrain-auc:0.625289\tvalid-auc:0.618792\n",
      "[7]\ttrain-auc:0.624962\tvalid-auc:0.618415\n",
      "[8]\ttrain-auc:0.624451\tvalid-auc:0.617901\n",
      "[9]\ttrain-auc:0.623937\tvalid-auc:0.617332\n",
      "[10]\ttrain-auc:0.623454\tvalid-auc:0.616932\n",
      "[11]\ttrain-auc:0.623173\tvalid-auc:0.616911\n",
      "[12]\ttrain-auc:0.623378\tvalid-auc:0.617086\n",
      "[13]\ttrain-auc:0.624206\tvalid-auc:0.616862\n",
      "[14]\ttrain-auc:0.625734\tvalid-auc:0.618238\n",
      "[15]\ttrain-auc:0.626025\tvalid-auc:0.618473\n",
      "Stopping. Best iteration:\n",
      "[5]\ttrain-auc:0.624415\tvalid-auc:0.619134\n",
      "\n",
      "XGBoost_score: 0.6184728695627957\n"
     ]
    }
   ],
   "source": [
    "# XGBoost\n",
    "import xgboost as xgb\n",
    "from sklearn.metrics import roc_auc_score\n",
    "\n",
    "dtrain = xgb.DMatrix(X_train, label=y_train)\n",
    "dvalid = xgb.DMatrix(X_valid, label=y_valid)\n",
    "\n",
    "params = {\n",
    "    #通用参数\n",
    "    'booster':'gbtree',\n",
    "    #booster参数\n",
    "    'eta': 0.02, #典型值为0.01-0.2\n",
    "    'min_child_weight': 2, #默认为1，避免过拟合，但是过高容易欠拟合\n",
    "    'max_depth': 5, #避免过拟合（越大越容易学习局部值），默认为6，典型值：3-10\n",
    "    'gamma':1, #与损失函数相关，越大越保守，默认为0\n",
    "    'subsample': 0.7, #默认为1，典型值为0.5~1，减小则趋于保守，避免过拟合，过小容易欠拟合\n",
    "    'colsample_bytree': 0.7,  #控制每棵树采样的随机占比，默认为1，典型值0.5~1\n",
    "    'colsample_bylevel':0.7, #控制树的每一级的每一次分裂，对列数的采样的占比\n",
    "    'lambda':10, #权重的L2正则化项，控制过拟合\n",
    "    #学习目标参数\n",
    "    'objective': 'binary:logistic', \n",
    "    #'num_class':2,\n",
    "    'eval_metric':'auc'\n",
    "}\n",
    "\n",
    "evallist = [(dtrain, 'train'),(dvalid,'valid')]\n",
    "model = xgb.train(params, dtrain, 1000, evallist, early_stopping_rounds=10)\n",
    "\n",
    "X_valid_DMatrix = xgb.DMatrix(X_valid)\n",
    "y_pred = model.predict(X_valid_DMatrix)\n",
    "\n",
    "print('XGBoost_score:', roc_auc_score(y_valid,y_pred))\n"
   ]
  },
  {
   "cell_type": "code",
   "execution_count": 22,
   "metadata": {},
   "outputs": [
    {
     "name": "stdout",
     "output_type": "stream",
     "text": [
      "[0]\ttrain-auc:0.578581\tvalid-auc:0.584764\n",
      "Multiple eval metrics have been passed: 'valid-auc' will be used for early stopping.\n",
      "\n",
      "Will train until valid-auc hasn't improved in 10 rounds.\n",
      "[1]\ttrain-auc:0.607752\tvalid-auc:0.613713\n",
      "[2]\ttrain-auc:0.614369\tvalid-auc:0.618882\n",
      "[3]\ttrain-auc:0.616379\tvalid-auc:0.621168\n",
      "[4]\ttrain-auc:0.617643\tvalid-auc:0.621822\n",
      "[5]\ttrain-auc:0.619744\tvalid-auc:0.620275\n",
      "[6]\ttrain-auc:0.620828\tvalid-auc:0.620984\n",
      "[7]\ttrain-auc:0.619797\tvalid-auc:0.620132\n",
      "[8]\ttrain-auc:0.619373\tvalid-auc:0.619761\n",
      "[9]\ttrain-auc:0.618656\tvalid-auc:0.619074\n",
      "[10]\ttrain-auc:0.618541\tvalid-auc:0.618968\n",
      "[11]\ttrain-auc:0.618903\tvalid-auc:0.619339\n",
      "[12]\ttrain-auc:0.619049\tvalid-auc:0.619149\n",
      "[13]\ttrain-auc:0.619393\tvalid-auc:0.619468\n",
      "[14]\ttrain-auc:0.619632\tvalid-auc:0.619692\n",
      "Stopping. Best iteration:\n",
      "[4]\ttrain-auc:0.617643\tvalid-auc:0.621822\n",
      "\n",
      "XGBoost_score: 0.6196915416832752\n"
     ]
    }
   ],
   "source": [
    "# XGBoost，不进行归一化\n",
    "train_X, train_y = train_data.drop(['label'], axis=1), train_data['label']\n",
    "\n",
    "# 空值及无限值处理\n",
    "train_X = fill_nanvsinf(train_X)\n",
    "\n",
    "# 拆分训练集、测试集\n",
    "X_train, X_valid, y_train, y_valid = train_test_split(train_X,train_y)\n",
    "\n",
    "import xgboost as xgb\n",
    "from sklearn.metrics import roc_auc_score\n",
    "\n",
    "dtrain = xgb.DMatrix(X_train, label=y_train)\n",
    "dvalid = xgb.DMatrix(X_valid, label=y_valid)\n",
    "\n",
    "params = {\n",
    "    #通用参数\n",
    "    'booster':'gbtree',\n",
    "    #booster参数\n",
    "    'eta': 0.02, #典型值为0.01-0.2\n",
    "    'min_child_weight': 2, #默认为1，避免过拟合，但是过高容易欠拟合\n",
    "    'max_depth': 5, #避免过拟合（越大越容易学习局部值），默认为6，典型值：3-10\n",
    "    'gamma':1, #与损失函数相关，越大越保守，默认为0\n",
    "    'subsample': 0.7, #默认为1，典型值为0.5~1，减小则趋于保守，避免过拟合，过小容易欠拟合\n",
    "    'colsample_bytree': 0.7,  #控制每棵树采样的随机占比，默认为1，典型值0.5~1\n",
    "    'colsample_bylevel':0.7, #控制树的每一级的每一次分裂，对列数的采样的占比\n",
    "    'lambda':10, #权重的L2正则化项，控制过拟合\n",
    "    #学习目标参数\n",
    "    'objective': 'binary:logistic', \n",
    "    #'num_class':2,\n",
    "    'eval_metric':'auc'\n",
    "}\n",
    "\n",
    "evallist = [(dtrain, 'train'),(dvalid,'valid')]\n",
    "model = xgb.train(params, dtrain, 1000, evallist, early_stopping_rounds=10)\n",
    "\n",
    "X_valid_DMatrix = xgb.DMatrix(X_valid)\n",
    "y_pred = model.predict(X_valid_DMatrix)\n",
    "\n",
    "print('XGBoost_score:', roc_auc_score(y_valid,y_pred))\n"
   ]
  },
  {
   "cell_type": "code",
   "execution_count": 16,
   "metadata": {},
   "outputs": [
    {
     "name": "stdout",
     "output_type": "stream",
     "text": [
      "<class 'pandas.core.frame.DataFrame'>\n",
      "RangeIndex: 261477 entries, 0 to 261476\n",
      "Data columns (total 20 columns):\n",
      " #   Column                Non-Null Count   Dtype  \n",
      "---  ------                --------------   -----  \n",
      " 0   user_id               261477 non-null  int32  \n",
      " 1   merchant_id           261477 non-null  int16  \n",
      " 2   age_range             261477 non-null  int8   \n",
      " 3   gender                261477 non-null  int8   \n",
      " 4   user_click_total      261477 non-null  float16\n",
      " 5   user_addtocart_total  261477 non-null  float16\n",
      " 6   user_purchase_total   261477 non-null  int16  \n",
      " 7   user_favourite_total  261477 non-null  float16\n",
      " 8   m_users_t             261477 non-null  int32  \n",
      " 9   m_items_t             261477 non-null  int16  \n",
      " 10  m_catgrys_t           261477 non-null  int16  \n",
      " 11  m_brands_t            261477 non-null  int8   \n",
      " 12  m_click_t             261477 non-null  int32  \n",
      " 13  m_addtocart_t         261477 non-null  float16\n",
      " 14  m_purchase_t          261477 non-null  int16  \n",
      " 15  m_favourite_t         261477 non-null  int32  \n",
      " 16  uim_click             261477 non-null  float16\n",
      " 17  uim_addtocart         261477 non-null  float16\n",
      " 18  uim_purchase          261477 non-null  int8   \n",
      " 19  uim_favourite         261477 non-null  float16\n",
      "dtypes: float16(7), int16(5), int32(4), int8(4)\n",
      "memory usage: 11.0 MB\n",
      "None\n"
     ]
    }
   ],
   "source": [
    "# 测试集处理\n",
    "test_data.drop(['label'], axis=1, inplace=True)\n",
    "test_data = fill_nanvsinf(test_data)\n",
    "\n",
    "print(test_data.info())"
   ]
  },
  {
   "cell_type": "code",
   "execution_count": 23,
   "metadata": {},
   "outputs": [
    {
     "name": "stdout",
     "output_type": "stream",
     "text": [
      "   user_id  merchant_id      prob\n",
      "0   163968         4605  0.385365\n",
      "1   360576         1581  0.388769\n",
      "2    98688         1964  0.382539\n",
      "3    98688         3645  0.381955\n",
      "4   295296         3361  0.393740\n",
      "5    33408           98  0.381955\n",
      "6   230016         1742  0.391033\n",
      "7   164736          598  0.382829\n",
      "8   164736         1963  0.381955\n",
      "9   164736         2634  0.381955\n"
     ]
    }
   ],
   "source": [
    "test_data_DMatrix = xgb.DMatrix(test_data)\n",
    "pred = model.predict(test_data_DMatrix)\n",
    "result = pd.DataFrame()\n",
    "result['user_id'] = test_data['user_id']\n",
    "result['merchant_id'] = test_data['merchant_id']\n",
    "result['prob'] = pred\n",
    "\n",
    "print(result.head(10))\n",
    "result.to_csv('prediction.csv', index=False)"
   ]
  },
  {
   "cell_type": "code",
   "execution_count": 24,
   "metadata": {},
   "outputs": [],
   "source": [
    "result.to_csv('prediction.csv', index=False)"
   ]
  },
  {
   "cell_type": "code",
   "execution_count": null,
   "metadata": {},
   "outputs": [],
   "source": []
  }
 ],
 "metadata": {
  "kernelspec": {
   "display_name": "Python 3",
   "language": "python",
   "name": "python3"
  },
  "language_info": {
   "codemirror_mode": {
    "name": "ipython",
    "version": 3
   },
   "file_extension": ".py",
   "mimetype": "text/x-python",
   "name": "python",
   "nbconvert_exporter": "python",
   "pygments_lexer": "ipython3",
   "version": "3.7.10"
  }
 },
 "nbformat": 4,
 "nbformat_minor": 4
}
